{
 "cells": [
  {
   "cell_type": "code",
   "execution_count": 36,
   "metadata": {},
   "outputs": [],
   "source": [
    "import os\n",
    "import pdfplumber\n",
    "import pandas as pd\n",
    "import re\n",
    "import numpy as np"
   ]
  },
  {
   "cell_type": "code",
   "execution_count": 37,
   "metadata": {},
   "outputs": [],
   "source": [
    "def get_tables_from_page(page):\n",
    "    return pd.concat([pd.DataFrame(table).dropna() for table in page.extract_tables()])\n",
    "\n",
    "def precinct_filler(val):\n",
    "    global curr_name\n",
    "    if val != '':\n",
    "        curr_name = val\n",
    "    return curr_name\n",
    "\n",
    "def clean_table(table):\n",
    "    df = pd.DataFrame(table)\n",
    "    df = df.fillna('')\n",
    "    df = df.rename(columns=df.iloc[0])\n",
    "    df = df.melt('Precinct')\n",
    "    df['variable'] = df['variable'].apply(lambda x: x[::-1]).str.replace('\\n',' ')\n",
    "\n",
    "    df = df[df['variable'] != 'Total Votes']\n",
    "    df = df[df['Precinct'] != 'Precinct']\n",
    "    df = df[df['Precinct'].apply(lambda x: 'County' not in x)]\n",
    "\n",
    "    df = df.rename(columns={'Precinct':'Vote_Type'})\n",
    "    df['Precinct'] = df['Vote_Type'].apply(lambda x: x if x not in ['Election Day','Mail-In','Provisional','Total'] else '')\n",
    "\n",
    "    df['Precinct'] = df['Precinct'].apply(precinct_filler)\n",
    "    df = df[df['Vote_Type'].apply(lambda x: x in ['Election Day','Mail-In','Provisional','Total'])]\n",
    "\n",
    "    df = df.pivot_table(values='value',index=['variable','Precinct'],columns='Vote_Type',aggfunc='sum')\n",
    "\n",
    "    df.columns.name = None\n",
    "    df = df.reset_index()\n",
    "\n",
    "    df = df.rename(columns={'variable':'candidate',\n",
    "            'Precinct':'precinct',\n",
    "            'Election Day':'election_day',\n",
    "            'Mail-In':'absentee',\n",
    "            'Provisional':'provisional',\n",
    "            'Total':'votes'})\n",
    "\n",
    "    df = df[df['candidate'] != '']\n",
    "\n",
    "    df['candidate'] = df['candidate'].replace('Voters Registered','Registered Voters')\n",
    "    if 'Registered Voters' in df['candidate'].unique():\n",
    "        df = df[['candidate','precinct','votes']]\n",
    "\n",
    "    return df\n",
    "\n",
    "def extract_race_title(page):\n",
    "    page_text = page.extract_text()\n",
    "    if not re.search(r'.*Vote.*\\n',page_text) is None:\n",
    "        race_title = re.search(r'.*Vote.*\\n',page_text).group(0)\n",
    "        return race_title\n",
    "    else:\n",
    "        return None"
   ]
  },
  {
   "cell_type": "code",
   "execution_count": 38,
   "metadata": {},
   "outputs": [],
   "source": [
    "file = '../data_2024/primary/Carbon PA StatementOfVotesCastRPT.pdf'\n",
    "pdf = pdfplumber.open(file)\n",
    "county_name = 'Carbon'"
   ]
  },
  {
   "cell_type": "code",
   "execution_count": 39,
   "metadata": {},
   "outputs": [],
   "source": [
    "all_data = []\n",
    "race_title = None\n",
    "for page in pdf.pages[9:]:\n",
    "    temp = pd.concat([clean_table(table) for table in page.extract_tables()])\n",
    "\n",
    "    curr_title = extract_race_title(page)\n",
    "    if not curr_title is None:\n",
    "        race_title = curr_title\n",
    "    \n",
    "    temp['Race'] = race_title\n",
    "    all_data.append(temp)\n",
    "df = pd.concat(all_data)"
   ]
  },
  {
   "cell_type": "code",
   "execution_count": 40,
   "metadata": {},
   "outputs": [],
   "source": [
    "df['party'] = df['Race'].apply(lambda x: re.search(r'[A-Z]{3}',x).group(0) if not re.search(r'[A-Z]{3}',x) is None else '')\n",
    "df['office'] = df['Race'].apply(lambda x: re.search(r'^[^\\(]+',x).group(0).strip() if re.search(r'^[^\\(]+',x) is not None else '')\n",
    "\n",
    "df['district'] = df['office'].apply(lambda x: re.search(r'- (.*)',x).group(1).strip() if re.search(r'- (.*)',x) is not None else '')\n",
    "df['district'] = df['district'].apply(lambda x: re.search(r'[0-9]+',x).group(0).strip() if re.search(r'[0-9]+',x) is not None else '')\n",
    "\n",
    "df['office'] = df['office'].apply(lambda x: re.search(r'(.*) -',x).group(1).strip() if re.search(r'(.*) -',x) is not None else x)\n",
    "\n",
    "df['precinct'] = df['precinct'].str.replace('\\n','')\n",
    "df['county'] = county_name"
   ]
  },
  {
   "cell_type": "code",
   "execution_count": 41,
   "metadata": {},
   "outputs": [],
   "source": [
    "df['office'] = df['office'].replace('President of the United States','President')\n",
    "df['office'] = df['office'].replace('United States Senator','U.S. Senate')\n",
    "df['office'] = df['office'].replace('Representative in Congress','U.S. House')\n",
    "df['office'] = df['office'].replace('Senator in General Assembly','State Senate')\n",
    "df['office'] = df['office'].replace(\"Representative in the General Assembly\",'General Assembly')\n",
    "df['office'] = df['office'].replace(\"Voters Registered\",'Registered Voters')"
   ]
  },
  {
   "cell_type": "code",
   "execution_count": 42,
   "metadata": {},
   "outputs": [],
   "source": [
    "df = df[df['candidate'].apply(lambda x: x not in ['Overvotes','Times Cast','Undervotes'])]\n",
    "df['candidate'] = df['candidate'].apply(lambda x: re.sub(r'\\(.*\\)','',x).strip().replace('  ',' '))\n",
    "df = df.reset_index()"
   ]
  },
  {
   "cell_type": "code",
   "execution_count": 43,
   "metadata": {},
   "outputs": [],
   "source": [
    "df = df[['county','precinct','office','district','party','candidate','votes','election_day','provisional','absentee']]"
   ]
  },
  {
   "cell_type": "code",
   "execution_count": 44,
   "metadata": {},
   "outputs": [],
   "source": [
    "df = df.fillna('')"
   ]
  },
  {
   "cell_type": "code",
   "execution_count": 45,
   "metadata": {},
   "outputs": [],
   "source": [
    "df.to_csv(f'../data_cleaned/20240423__pa__primary__{county_name.lower()}__precinct.csv',index=False)"
   ]
  }
 ],
 "metadata": {
  "kernelspec": {
   "display_name": "Python 3",
   "language": "python",
   "name": "python3"
  },
  "language_info": {
   "codemirror_mode": {
    "name": "ipython",
    "version": 3
   },
   "file_extension": ".py",
   "mimetype": "text/x-python",
   "name": "python",
   "nbconvert_exporter": "python",
   "pygments_lexer": "ipython3",
   "version": "3.11.8"
  }
 },
 "nbformat": 4,
 "nbformat_minor": 2
}
