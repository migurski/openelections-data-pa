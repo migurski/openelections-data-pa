{
 "cells": [
  {
   "cell_type": "code",
   "execution_count": 328,
   "metadata": {},
   "outputs": [],
   "source": [
    "import os\n",
    "import pandas as pd\n",
    "import pdfplumber\n",
    "import re"
   ]
  },
  {
   "cell_type": "code",
   "execution_count": null,
   "metadata": {},
   "outputs": [],
   "source": [
    "# exception caused by rare cases of race data that overflow page boundaries. data not yet complete"
   ]
  },
  {
   "cell_type": "code",
   "execution_count": 329,
   "metadata": {},
   "outputs": [],
   "source": [
    "def extract_votes_from_row(data_row,header):\n",
    "    votes_ls = re.search(r'[0-9]+\\s[0-9]+\\s[0-9]+\\s[0-9]+',data_row).group(0).split(' ')\n",
    "    votes = {}\n",
    "    for i in range(0,len(header)):\n",
    "        votes[header[i]] = [votes_ls[i]]\n",
    "    df = pd.DataFrame(votes)\n",
    "    df['candidate'] = re.search(r'[^0-9]*',data_row).group(0).strip()\n",
    "    return df\n",
    "\n",
    "def extract_votes(data_rows,header):\n",
    "    if len(data_rows) > 0:\n",
    "        return pd.concat([extract_votes_from_row(data_row,header) for data_row in data_rows])\n",
    "    return None\n",
    "\n",
    "def extract_data_rows(table_rows):\n",
    "    data_rows = []\n",
    "    for row in table_rows:\n",
    "        if not re.search(r'[0-9]+\\s[0-9]+\\s[0-9]+\\s[0-9]+',row) is None:\n",
    "            data_rows.append(row)\n",
    "\n",
    "    return data_rows\n",
    "\n",
    "def extract_box_data(page,bbox):\n",
    "    data_section = page.crop(bbox,strict=False)\n",
    "    data_text = data_section.extract_text()\n",
    "    table_rows = data_text.split('\\n')\n",
    "    race_title = table_rows[0]\n",
    "\n",
    "    table_header = ['Votes','ED','MI','PR']\n",
    "    \n",
    "    data_rows = extract_data_rows(table_rows)\n",
    "\n",
    "    df = extract_votes(data_rows,table_header)\n",
    "\n",
    "    if not re.search(r'\\(([A-Za-z]{,3})\\)',race_title) is None:\n",
    "        df['party'] = re.search(r'\\(([A-Za-z]{,3})\\)',race_title).group(1)\n",
    "    if not re.search(r'^[^\\(]+',race_title) is None:\n",
    "        df['office'] = re.search(r'^[^\\(]+',race_title).group(0).strip()\n",
    "\n",
    "    return df\n",
    "\n",
    "def extract_precinct_header(page):\n",
    "    if not re.search(r'(Precinct .*)\\n',page.extract_text()) is None:\n",
    "        return re.search(r'(Precinct .*)\\n',page.extract_text()).group(1)\n",
    "    return None\n",
    "\n",
    "def extract_precinct_name(precinct_header):\n",
    "    return re.search(r'[^0-9]*',precinct_header).group(0).strip()\n",
    "\n",
    "def extract_data_bounding_boxes(page,vote_headers):\n",
    "    all_boxes = []\n",
    "    i = 0\n",
    "    while i < len(vote_headers):\n",
    "        if i < len(vote_headers) - 1:\n",
    "            pair = vote_headers[i:i+2]\n",
    "            bbox = (0,pair[0]['top']-0,page.width,pair[1]['top']-0)\n",
    "        else:\n",
    "            bbox = (0,vote_headers[i]['top']-0,page.width,page.height)\n",
    "        all_boxes.append(bbox)\n",
    "        i += 1\n",
    "    return all_boxes\n",
    "\n",
    "def extract_page_data(page):\n",
    "    vote_headers = page.search('Vote for')\n",
    "    if (len(vote_headers)) > 0:\n",
    "        all_data = []\n",
    "        bounding_boxes = extract_data_bounding_boxes(page,vote_headers)\n",
    "        box_datums = list(filter(lambda x: x is not None,[extract_box_data(page,bbox) for bbox in bounding_boxes]))\n",
    "        if len(box_datums) > 0:\n",
    "            df = pd.concat(box_datums)\n",
    "            return df\n",
    "    return None\n",
    "\n",
    "def extract_statistics(page):\n",
    "    if len(page.search('STATISTICS')) > 0:\n",
    "        bbox = (0,page.search('STATISTICS')[0]['bottom'],page.width,page.search('STATISTICS')[0]['bottom'] + 150)\n",
    "        stats_text = page.crop(bbox).extract_text()\n",
    "\n",
    "        stats = pd.DataFrame({\n",
    "            'Registered Voters': [re.search(r'Registered Voters - Total ([0-9]*)',stats_text).group(1)],\n",
    "            'Ballots Cast': [re.search(r'Ballots Cast - Total ([0-9]*)',stats_text).group(1)]\n",
    "        })\n",
    "\n",
    "        stats = stats.melt().rename(columns={\n",
    "            'variable':'office',\n",
    "            'value':'votes'\n",
    "        })\n",
    "\n",
    "        stats['precinct'] = extract_precinct_name(page)\n",
    "\n",
    "        return stats\n",
    "    else:\n",
    "        return None"
   ]
  },
  {
   "cell_type": "code",
   "execution_count": 330,
   "metadata": {},
   "outputs": [],
   "source": [
    "file = '../data_2024/primary/Bucks PA County Final EMS Report for 2024 General Primary. Detail and Grand total.pdf'\n",
    "pdf = pdfplumber.open(file)\n",
    "county_name = 'Bucks'"
   ]
  },
  {
   "cell_type": "code",
   "execution_count": 331,
   "metadata": {},
   "outputs": [],
   "source": [
    "all_data = []\n",
    "for page in pdf.pages:\n",
    "    precinct_header = extract_precinct_header(page)\n",
    "    if not precinct_header is None:\n",
    "        split_line = page.search('Precinct ')[0]['top']\n",
    "        above_header = page.crop((0,0,page.width,split_line))\n",
    "        below_header = page.crop((0,split_line,page.width,page.height))\n",
    "\n",
    "        temp = extract_page_data(above_header)\n",
    "        if not temp is None:\n",
    "            temp['precinct'] = precinct\n",
    "            all_data.append(temp)\n",
    "\n",
    "        precinct = extract_precinct_name(precinct_header)\n",
    "\n",
    "        temp = extract_page_data(below_header)\n",
    "        if not temp is None:\n",
    "            temp['precinct'] = precinct\n",
    "            all_data.append(temp)\n",
    "    else:\n",
    "        temp = extract_page_data(page)\n",
    "        if not temp is None:\n",
    "            temp['precinct'] = precinct\n",
    "            all_data.append(temp)\n",
    "df = pd.concat(all_data)"
   ]
  },
  {
   "cell_type": "code",
   "execution_count": 332,
   "metadata": {},
   "outputs": [],
   "source": [
    "#df = pd.concat([extract_page_data(page) for page in pdf.pages])"
   ]
  },
  {
   "cell_type": "code",
   "execution_count": 333,
   "metadata": {},
   "outputs": [],
   "source": [
    "df['county'] = county_name"
   ]
  },
  {
   "cell_type": "code",
   "execution_count": 334,
   "metadata": {},
   "outputs": [],
   "source": [
    "df = df.rename(columns={\n",
    "    'Votes':'votes',\n",
    "    'ED':'election_day',\n",
    "    'PR':'provisional',\n",
    "    'MI':'absentee'\n",
    "})"
   ]
  },
  {
   "cell_type": "code",
   "execution_count": 335,
   "metadata": {},
   "outputs": [],
   "source": [
    "df = df[df['candidate'].apply(lambda x: x not in ['Total'])]"
   ]
  },
  {
   "cell_type": "code",
   "execution_count": 336,
   "metadata": {},
   "outputs": [],
   "source": [
    "# get the office name up until the first dash\n",
    "df['office'] = df['office'].apply(lambda x: re.search(r'(.*) -',x).group(1).strip() if not re.search(r'.* -',x) is None else x)\n",
    "# pull out the district number\n",
    "df['district'] = df['office'].apply(lambda x: re.search(r'([0-9]+)[a-z]+',x).group(1) if not re.search(r'[0-9]+[a-z]+',x) is None else None)"
   ]
  },
  {
   "cell_type": "code",
   "execution_count": 337,
   "metadata": {},
   "outputs": [],
   "source": [
    "# strip the district numbers off the end of the race names\n",
    "df['office'] = df['office'].apply(lambda x: re.search(r'(.*)[0-9]+[a-z]+',x).group(1) if not re.search(r'(.*)[0-9]+[a-z]+',x) is None else x)\n",
    "df['office'] = df['office'].apply(lambda x: re.sub('[0-9]+$','',x).strip())"
   ]
  },
  {
   "cell_type": "code",
   "execution_count": 338,
   "metadata": {},
   "outputs": [],
   "source": [
    "df['party'] = df['party'].str.upper()\n",
    "df = df.fillna('')\n",
    "df = df.drop_duplicates()\n",
    "df = df.reset_index()\n",
    "df = df[['county','precinct','office','district','party','candidate','votes','election_day','provisional','absentee']]"
   ]
  },
  {
   "cell_type": "code",
   "execution_count": 339,
   "metadata": {},
   "outputs": [],
   "source": [
    "# data cleaning\n",
    "df['candidate'] = df['candidate'].str.title()\n",
    "df['office'] = df['office'].str.replace('Delagate','Delegate')\n",
    "df['office'] = df['office'].replace('Presidential Electors','President')\n",
    "df['office'] = df['office'].replace('United States Senator','U.S. Senate')\n",
    "df['office'] = df['office'].replace('Representative in Congress','U.S. House')\n",
    "df['office'] = df['office'].replace('Senator in the General Assembly','State Senate')\n",
    "df['office'] = df['office'].replace(\"Representative in the General Assembly \",'General Assembly')"
   ]
  },
  {
   "cell_type": "code",
   "execution_count": 16,
   "metadata": {},
   "outputs": [],
   "source": [
    "df.to_csv(f'../data_cleaned/20240423__pa__primary__{county_name.lower()}__precinct.csv',index=False)"
   ]
  }
 ],
 "metadata": {
  "kernelspec": {
   "display_name": "Python 3",
   "language": "python",
   "name": "python3"
  },
  "language_info": {
   "codemirror_mode": {
    "name": "ipython",
    "version": 3
   },
   "file_extension": ".py",
   "mimetype": "text/x-python",
   "name": "python",
   "nbconvert_exporter": "python",
   "pygments_lexer": "ipython3",
   "version": "3.11.8"
  }
 },
 "nbformat": 4,
 "nbformat_minor": 2
}
